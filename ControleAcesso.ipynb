{
 "cells": [
  {
   "attachments": {},
   "cell_type": "markdown",
   "metadata": {},
   "source": [
    "*CONTROLE DE ACESSO*\n",
    "\n",
    ">`Controle de acesso diz respeito às tecnologias (hardware e software) que têm como principal função o gerenciamento do acesso a determinados ambientes, especialmente em locais onde exista um fluxo elevado de pessoas, materiais e veículos. É o caso, por exemplo, de empresas, condomínios, academias, instituições de ensino ou qualquer outro local em que o acesso seja restrito.Nesse sentido, o principal objetivo dos sistemas de controle de acesso é impedir a entrada de pessoas não autorizadas, aumentando a segurança e garantindo a integridade de pessoas e bens. Não à toa, o uso de sistema de controle de acesso tem se tornado cada vez mais comum. E isso se explica, em parte, por sua capacidade de aliar alta eficiência, modernidade e simplicidade em uma única solução integrada de segurança.`\n",
    "\n",
    "<center><img src = 'CA.jpg' ></center>\n",
    "\n",
    ">* *Cartão de acesso ou tag*\n",
    ">>`Muito utilizado em ambientes corporativos, tanto para funcionários quanto para visitantes. Funciona como uma espécie de credencial do usuário, permitindo ao sistema identificá-lo e liberá-lo de acordo com as restrições estabelecidas pela própria empresa. A liberação é feita por meio da aproximação ou introdução do cartão ou da tag a um leitor.Trata-se de um recurso especialmente útil para empresas que precisam restringir ou liberar o acesso de determinados colaboradores a determinadas áreas ou departamentos da empresa, limitando e organizando a circulação de pessoas e possíveis brechas na segurança do local.`\n",
    "\n",
    ">* *Vantagens do controle de acesso*\n",
    ">>* `Acompanhar o fluxo de pessoas`\n",
    ">>* `Reduzir os custos operacionais`\n",
    ">>* `Aumentar a segurança`\n",
    ">>* `Possibilidade de localização dos colaboradores dentro da empresa;`\n",
    ">>* **`Possibilidade de integração ao sistema de ponto eletrônicos dos funcionários`**\n",
    "\n",
    "\n",
    ">* *Objetivo*\n",
    ">>`O objetivo desse projeto é analisar os dados de controle de acesso a fim de melhorar a aplicação do controle de acesso do prédio, identificar problemas e extrair informações importantes desses dados.`\n",
    "\n",
    ">>**`Espera-se um modelo que seja capaz de identificar problemas como: Cartões invalidos, cartões com id incorreto, horario de entrada e saida de funcionarios, horas e dias trabalhados, quantidade de carros na garagem`**\n",
    "\n",
    "*Autor: `Cássio Araujo`*"
   ]
  },
  {
   "cell_type": "markdown",
   "metadata": {},
   "source": [
    "**Importar os Dados**\n",
    "\n",
    "`Os dados que serão utilizados nessa analise foram extraimos do SQL Server do servidor de automação. Estes dados estão em aquivo .csv e serão importados para uma estrutura DataFrame utilizando a biblioteca pandas a fim de possibilitar sua manipulação e análise`"
   ]
  },
  {
   "cell_type": "code",
   "execution_count": 289,
   "metadata": {},
   "outputs": [],
   "source": [
    "# Importando as bibliotecas necessarias\n",
    "import pandas as pd\n",
    "import matplotlib.pyplot as plt\n",
    "import seaborn as sns\n",
    "import numpy as np\n",
    "from datetime import timedelta\n",
    "# definir o estilo do seaborn para os plots\n",
    "sns.set_style('whitegrid')"
   ]
  },
  {
   "cell_type": "code",
   "execution_count": 290,
   "metadata": {},
   "outputs": [],
   "source": [
    "# Importando o arquivo .csv para um dataframe\n",
    "df = pd.read_csv('C:/Users/engca/Documents/Estudos (Python)/env/Controle de Acesso/Controle de Acesso Premium.csv', sep=';', parse_dates=True, index_col='ACEInstance')\n",
    "\n"
   ]
  },
  {
   "cell_type": "markdown",
   "metadata": {},
   "source": [
    "**Análise Exploratória de Dados**\n",
    "\n",
    "`A primeira coisa que faremos apos importar o dataset será examinar as dimensões do DataFrame e as primeiras entradas, Isso possibilitara criar uma consciencia situacional inicial a respeito do formato de entrada e da estrutura geral dos dados`"
   ]
  },
  {
   "cell_type": "code",
   "execution_count": 291,
   "metadata": {},
   "outputs": [
    {
     "name": "stdout",
     "output_type": "stream",
     "text": [
      "\n",
      "DIMENSÕES DO DATAFRAME:\n",
      "\n",
      "Variáveis:\t13\n",
      "Entradas:\t896909\n"
     ]
    }
   ],
   "source": [
    "# Identificar o volume de dados do DataFrame\n",
    "print('\\nDIMENSÕES DO DATAFRAME:\\n')\n",
    "print('Variáveis:\\t{}'.format(df.shape[1]))\n",
    "print('Entradas:\\t{}'.format(df.shape[0]))"
   ]
  },
  {
   "cell_type": "markdown",
   "metadata": {},
   "source": [
    "`Já as primeiras 5 entradas desse conjunto de dados permitem adquirirmos uma noção inicial sobre o tipo de formato, exemplos de entrada e formulação das hipoteses iniciais do processo investigativo`"
   ]
  },
  {
   "cell_type": "code",
   "execution_count": 292,
   "metadata": {},
   "outputs": [
    {
     "data": {
      "text/html": [
       "<div>\n",
       "<style scoped>\n",
       "    .dataframe tbody tr th:only-of-type {\n",
       "        vertical-align: middle;\n",
       "    }\n",
       "\n",
       "    .dataframe tbody tr th {\n",
       "        vertical-align: top;\n",
       "    }\n",
       "\n",
       "    .dataframe thead th {\n",
       "        text-align: right;\n",
       "    }\n",
       "</style>\n",
       "<table border=\"1\" class=\"dataframe\">\n",
       "  <thead>\n",
       "    <tr style=\"text-align: right;\">\n",
       "      <th></th>\n",
       "      <th>EventTime</th>\n",
       "      <th>EventTypeNumber</th>\n",
       "      <th>EventObjectID</th>\n",
       "      <th>EventObjectName</th>\n",
       "      <th>EventObjectDevice</th>\n",
       "      <th>EventObjectType</th>\n",
       "      <th>EventObjectInstance</th>\n",
       "      <th>CardUserInstance</th>\n",
       "      <th>CardUserName</th>\n",
       "      <th>CardUserNumber</th>\n",
       "      <th>SiteCode</th>\n",
       "      <th>EventArg</th>\n",
       "      <th>FloorName</th>\n",
       "    </tr>\n",
       "    <tr>\n",
       "      <th>ACEInstance</th>\n",
       "      <th></th>\n",
       "      <th></th>\n",
       "      <th></th>\n",
       "      <th></th>\n",
       "      <th></th>\n",
       "      <th></th>\n",
       "      <th></th>\n",
       "      <th></th>\n",
       "      <th></th>\n",
       "      <th></th>\n",
       "      <th></th>\n",
       "      <th></th>\n",
       "      <th></th>\n",
       "    </tr>\n",
       "  </thead>\n",
       "  <tbody>\n",
       "    <tr>\n",
       "      <th>899464</th>\n",
       "      <td>2023-05-02 13:21:41.000</td>\n",
       "      <td>1</td>\n",
       "      <td>20000.DC201</td>\n",
       "      <td>DC_Entrada Catraca 02 Terreo</td>\n",
       "      <td>20000</td>\n",
       "      <td>DC</td>\n",
       "      <td>201</td>\n",
       "      <td>2322</td>\n",
       "      <td>GIOVANNA AZEVEDO</td>\n",
       "      <td>40165</td>\n",
       "      <td>226</td>\n",
       "      <td>0</td>\n",
       "      <td>NaN</td>\n",
       "    </tr>\n",
       "    <tr>\n",
       "      <th>899465</th>\n",
       "      <td>2023-05-02 13:22:06.000</td>\n",
       "      <td>1</td>\n",
       "      <td>20000.DC301</td>\n",
       "      <td>DC_Entrada Catraca 01 Terreo</td>\n",
       "      <td>20000</td>\n",
       "      <td>DC</td>\n",
       "      <td>301</td>\n",
       "      <td>2292</td>\n",
       "      <td>ROBSON LENIN EVANGELISTA CARVALHO</td>\n",
       "      <td>1314</td>\n",
       "      <td>240</td>\n",
       "      <td>0</td>\n",
       "      <td>NaN</td>\n",
       "    </tr>\n",
       "    <tr>\n",
       "      <th>899466</th>\n",
       "      <td>2023-05-02 13:22:14.000</td>\n",
       "      <td>1</td>\n",
       "      <td>30000.DC102</td>\n",
       "      <td>DC_Saida Catraca 01 Terreo</td>\n",
       "      <td>30000</td>\n",
       "      <td>DC</td>\n",
       "      <td>102</td>\n",
       "      <td>2196</td>\n",
       "      <td>RENATO BATISTA DE LIMA</td>\n",
       "      <td>620</td>\n",
       "      <td>240</td>\n",
       "      <td>1</td>\n",
       "      <td>NaN</td>\n",
       "    </tr>\n",
       "    <tr>\n",
       "      <th>899467</th>\n",
       "      <td>2023-05-02 13:22:18.000</td>\n",
       "      <td>1</td>\n",
       "      <td>20000.DC202</td>\n",
       "      <td>DC_Saida Catraca 02 Terreo</td>\n",
       "      <td>20000</td>\n",
       "      <td>DC</td>\n",
       "      <td>202</td>\n",
       "      <td>330</td>\n",
       "      <td>RAUL RIBEIRO DE SOUZA</td>\n",
       "      <td>1245</td>\n",
       "      <td>240</td>\n",
       "      <td>1</td>\n",
       "      <td>NaN</td>\n",
       "    </tr>\n",
       "    <tr>\n",
       "      <th>899468</th>\n",
       "      <td>2023-05-02 13:22:37.000</td>\n",
       "      <td>1</td>\n",
       "      <td>20000.DC301</td>\n",
       "      <td>DC_Entrada Catraca 01 Terreo</td>\n",
       "      <td>20000</td>\n",
       "      <td>DC</td>\n",
       "      <td>301</td>\n",
       "      <td>1765</td>\n",
       "      <td>CARTÃO MESTRE 03</td>\n",
       "      <td>1479</td>\n",
       "      <td>250</td>\n",
       "      <td>0</td>\n",
       "      <td>NaN</td>\n",
       "    </tr>\n",
       "  </tbody>\n",
       "</table>\n",
       "</div>"
      ],
      "text/plain": [
       "                           EventTime  EventTypeNumber EventObjectID  \\\n",
       "ACEInstance                                                           \n",
       "899464       2023-05-02 13:21:41.000                1   20000.DC201   \n",
       "899465       2023-05-02 13:22:06.000                1   20000.DC301   \n",
       "899466       2023-05-02 13:22:14.000                1   30000.DC102   \n",
       "899467       2023-05-02 13:22:18.000                1   20000.DC202   \n",
       "899468       2023-05-02 13:22:37.000                1   20000.DC301   \n",
       "\n",
       "                          EventObjectName  EventObjectDevice EventObjectType  \\\n",
       "ACEInstance                                                                    \n",
       "899464       DC_Entrada Catraca 02 Terreo              20000              DC   \n",
       "899465       DC_Entrada Catraca 01 Terreo              20000              DC   \n",
       "899466         DC_Saida Catraca 01 Terreo              30000              DC   \n",
       "899467         DC_Saida Catraca 02 Terreo              20000              DC   \n",
       "899468       DC_Entrada Catraca 01 Terreo              20000              DC   \n",
       "\n",
       "             EventObjectInstance  CardUserInstance  \\\n",
       "ACEInstance                                          \n",
       "899464                       201              2322   \n",
       "899465                       301              2292   \n",
       "899466                       102              2196   \n",
       "899467                       202               330   \n",
       "899468                       301              1765   \n",
       "\n",
       "                                  CardUserName  CardUserNumber  SiteCode  \\\n",
       "ACEInstance                                                                \n",
       "899464                        GIOVANNA AZEVEDO           40165       226   \n",
       "899465       ROBSON LENIN EVANGELISTA CARVALHO            1314       240   \n",
       "899466                  RENATO BATISTA DE LIMA             620       240   \n",
       "899467                   RAUL RIBEIRO DE SOUZA            1245       240   \n",
       "899468                        CARTÃO MESTRE 03            1479       250   \n",
       "\n",
       "             EventArg  FloorName  \n",
       "ACEInstance                       \n",
       "899464              0        NaN  \n",
       "899465              0        NaN  \n",
       "899466              1        NaN  \n",
       "899467              1        NaN  \n",
       "899468              0        NaN  "
      ]
     },
     "execution_count": 292,
     "metadata": {},
     "output_type": "execute_result"
    }
   ],
   "source": [
    "# Visualização do dataframe\n",
    "df.tail()"
   ]
  },
  {
   "cell_type": "code",
   "execution_count": 293,
   "metadata": {},
   "outputs": [
    {
     "data": {
      "text/plain": [
       "Index(['EventTime', 'EventTypeNumber', 'EventObjectID', 'EventObjectName',\n",
       "       'EventObjectDevice', 'EventObjectType', 'EventObjectInstance',\n",
       "       'CardUserInstance', 'CardUserName', 'CardUserNumber', 'SiteCode',\n",
       "       'EventArg', 'FloorName'],\n",
       "      dtype='object')"
      ]
     },
     "execution_count": 293,
     "metadata": {},
     "output_type": "execute_result"
    }
   ],
   "source": [
    "#Identificando as colunas do dataframe\n",
    "df.columns"
   ]
  },
  {
   "cell_type": "markdown",
   "metadata": {},
   "source": [
    "`Algumas conclusões iniciais que podem ser destacadas a respeito dessa analise inicial`\n",
    "\n",
    "**Dicionário das variáveis**\n",
    ">* `ACEInstance` - Número de Registro dos Eventos do Controle de Acesso\n",
    ">* `EventTime` - Data e Hora do Evento\n",
    ">* `EventTypeNumber` - Número do Tipo do Evento\n",
    ">* `EventObjectID` - Código da torre e porta de acesso\n",
    ">* `EventObjectName` - Nome da Leitora do Evento\n",
    ">* `EventObjectDevice` - Endereço da Gerenciadora de Acesso (Torres)\n",
    ">* `EventObjectType` - Tipo de Objeto da Gerenciadora de Acesso\n",
    ">* `EventObjectInstance` - Instancia do Tipo de Objeto da Gerenciadora\n",
    ">* `CardUserInstance` - Objeto CardUser do Usuario\n",
    ">* `CardUserName` - Nome do Usuario\n",
    ">* `CardUserNumber` - Número do Cartão do Usuário (Idenfificação exclusiva)\n",
    ">* `SiteCode` - Codigo do Cartão do Usuário  \n",
    ">* `EventArg` - Não identificado\n",
    ">* `FloorName` - Não identificado\n",
    "\n",
    "`Vamos realizar o levantamento dos tipos de variaveis que compoem o DataFrame a fim de estabelecer a divisão entre as variaveis numericas e as variaveis categoricas`"
   ]
  },
  {
   "cell_type": "code",
   "execution_count": 294,
   "metadata": {},
   "outputs": [
    {
     "name": "stdout",
     "output_type": "stream",
     "text": [
      "\n",
      "TIPOS DE VARIÁVEIS DO DATAFRAME:\n",
      "\n"
     ]
    },
    {
     "data": {
      "text/plain": [
       "EventTime               object\n",
       "EventTypeNumber          int64\n",
       "EventObjectID           object\n",
       "EventObjectName         object\n",
       "EventObjectDevice        int64\n",
       "EventObjectType         object\n",
       "EventObjectInstance      int64\n",
       "CardUserInstance         int64\n",
       "CardUserName            object\n",
       "CardUserNumber           int64\n",
       "SiteCode                 int64\n",
       "EventArg                 int64\n",
       "FloorName              float64\n",
       "dtype: object"
      ]
     },
     "metadata": {},
     "output_type": "display_data"
    }
   ],
   "source": [
    "# Verificar os tipos das variaveis do DataFrame\n",
    "print('\\nTIPOS DE VARIÁVEIS DO DATAFRAME:\\n')\n",
    "display(df.dtypes)"
   ]
  },
  {
   "attachments": {},
   "cell_type": "markdown",
   "metadata": {},
   "source": [
    "`Outra análise importante para se fazer é identificar a quantidade de dados ausentes por Variavel`"
   ]
  },
  {
   "cell_type": "code",
   "execution_count": 295,
   "metadata": {},
   "outputs": [
    {
     "name": "stdout",
     "output_type": "stream",
     "text": [
      "\n",
      "VALORES AUSENTES:\n",
      "\n"
     ]
    },
    {
     "data": {
      "text/plain": [
       "FloorName              100.000000\n",
       "CardUserName             1.069116\n",
       "EventTime                0.000000\n",
       "EventTypeNumber          0.000000\n",
       "EventObjectID            0.000000\n",
       "EventObjectName          0.000000\n",
       "EventObjectDevice        0.000000\n",
       "EventObjectType          0.000000\n",
       "EventObjectInstance      0.000000\n",
       "CardUserInstance         0.000000\n",
       "CardUserNumber           0.000000\n",
       "SiteCode                 0.000000\n",
       "EventArg                 0.000000\n",
       "dtype: float64"
      ]
     },
     "execution_count": 295,
     "metadata": {},
     "output_type": "execute_result"
    }
   ],
   "source": [
    "# Ordenar em ordem decrescente as variavieis por seus valores ausentes\n",
    "print('\\nVALORES AUSENTES:\\n')\n",
    "(df.isnull().sum() / df.shape[0]).sort_values(ascending=False)*100"
   ]
  },
  {
   "cell_type": "markdown",
   "metadata": {},
   "source": [
    "`Em realção à porcentagem de valores ausentes identificados neste dataset:`\n",
    "\n",
    ">* `A variavel` ['FloorName'] `possui ` 100% ` dos seus valores ausentes`\n",
    ">* `A variavel` ['CardUserName'] `possui ` 1.2% ` dos seus valores ausentes, ou seja, esse registro não tem idenfificação nominal`\n",
    "\n",
    "`Neste projeto, as variaveis de maior importancia não possuem ausencia de dados, possibilitando uma analise mais precisa`"
   ]
  },
  {
   "attachments": {},
   "cell_type": "markdown",
   "metadata": {},
   "source": [
    "`Outra análise interessante de se fazer diz respeito à contagem de valores únicos por Coluna.`"
   ]
  },
  {
   "cell_type": "code",
   "execution_count": 296,
   "metadata": {},
   "outputs": [
    {
     "name": "stdout",
     "output_type": "stream",
     "text": [
      "\n",
      "VALORES ÚNICOS:\n",
      "\n",
      "FloorName                   0\n",
      "EventObjectType             3\n",
      "EventObjectDevice           5\n",
      "EventArg                   11\n",
      "EventTypeNumber            14\n",
      "EventObjectInstance        24\n",
      "EventObjectName            34\n",
      "EventObjectID              78\n",
      "SiteCode                  192\n",
      "CardUserInstance         2306\n",
      "CardUserNumber           2429\n",
      "CardUserName             2629\n",
      "EventTime              874257\n",
      "dtype: int64\n"
     ]
    }
   ],
   "source": [
    "# Valores únicos\n",
    "print('\\nVALORES ÚNICOS:\\n')\n",
    "print(df.nunique().sort_values())"
   ]
  },
  {
   "cell_type": "markdown",
   "metadata": {},
   "source": [
    "`A contagem de valores unicos nos mostram que a variavel` ['FloorName'] `não apresenta nenhum valor unico. Como não há maiores informaçoes sobre essa variavel iremos destacar essa variavel na analise`"
   ]
  },
  {
   "cell_type": "markdown",
   "metadata": {},
   "source": [
    "**Preparação dos Dados**\n",
    "\n",
    "`Com as informações que obtivemos anteriormente da etapa anterior, vamos prosseguir com a limpeza e preparação dos dados`"
   ]
  },
  {
   "cell_type": "code",
   "execution_count": 297,
   "metadata": {},
   "outputs": [],
   "source": [
    "# Remover colunas indesejadas para um novo DataFrame\n",
    "df_clean = df.copy()\n",
    "df_clean.drop(['EventArg','FloorName','EventTypeNumber','EventObjectID','CardUserInstance'], axis=1 , inplace=True) #Inplace serve para aplicar a função na variavel original sem criar uma copia"
   ]
  },
  {
   "cell_type": "code",
   "execution_count": 298,
   "metadata": {},
   "outputs": [],
   "source": [
    "#Renomeando a colunas\n",
    "df_clean.rename(columns={'EventTime': 'Data/Hora'},inplace=True)\n",
    "df_clean.rename(columns={'EventObjectName': 'Entrada/Saida'},inplace=True)\n",
    "df_clean.rename(columns={'EventObjectDevice': 'Torre'},inplace=True)\n",
    "df_clean.rename(columns={'EventObjectType': 'Tipo_Objeto'},inplace=True)\n",
    "df_clean.rename(columns={'EventObjectInstance': 'Catraca'},inplace=True)\n",
    "df_clean.rename(columns={'CardUserName': 'Nome_Usuario'},inplace=True)\n",
    "df_clean.rename(columns={'CardUserNumber': 'Numero_Cartao'},inplace=True)\n"
   ]
  },
  {
   "cell_type": "code",
   "execution_count": 299,
   "metadata": {},
   "outputs": [],
   "source": [
    "# Alterando o tipo de dado da coluna EventTime\n",
    "df_clean['Data/Hora'] = pd.to_datetime(df_clean[\"Data/Hora\"])"
   ]
  },
  {
   "cell_type": "code",
   "execution_count": 300,
   "metadata": {},
   "outputs": [],
   "source": [
    "# Extrai a data e a hora em colunas separadas\n",
    "df_clean['Data'] = df_clean['Data/Hora'].dt.date\n",
    "df_clean['Hora'] = df_clean['Data/Hora'].dt.time\n"
   ]
  },
  {
   "cell_type": "code",
   "execution_count": 301,
   "metadata": {},
   "outputs": [],
   "source": [
    "# converter a coluna para o tipo datetime\n",
    "df_clean['Hora'] = pd.to_datetime(df_clean['Hora'], format='%H:%M:%S')\n",
    "# extrair apenas a hora de cada valor\n",
    "df_clean['Hora'] = df_clean['Hora'].dt.hour"
   ]
  },
  {
   "cell_type": "code",
   "execution_count": 302,
   "metadata": {},
   "outputs": [],
   "source": [
    "# Incluindo coluna data do EventTime apenas com mês e ano\n",
    "df_clean['Ano_Mes'] = df_clean['Data/Hora'].dt.strftime('%Y-%m')"
   ]
  },
  {
   "cell_type": "code",
   "execution_count": 303,
   "metadata": {},
   "outputs": [],
   "source": [
    "# Incluindo coluna data do EventTime apenas com mês e ano\n",
    "df_clean['Ano'] = df_clean[\"Data/Hora\"].apply(lambda x: \"{}\".format(x.year))\n",
    "\n",
    "#Separando Data por Mes\n",
    "df_clean['Mes'] = df_clean[\"Data/Hora\"].apply(lambda x: \"{:02d}\".format(x.month))"
   ]
  },
  {
   "cell_type": "code",
   "execution_count": 304,
   "metadata": {},
   "outputs": [],
   "source": [
    "# Removendo linhas do Tipo de Objeto da Gerenciadora de Acesso diferentes de DC (Door Controller)\n",
    "df_clean.drop(df_clean[df_clean.Tipo_Objeto != 'DC'].index, axis=0, inplace=True)"
   ]
  },
  {
   "cell_type": "code",
   "execution_count": 305,
   "metadata": {},
   "outputs": [],
   "source": [
    "# Extrair os dias da semana da coluna \"Data\"\n",
    "df_clean['Data'] = pd.to_datetime(df_clean['Data'])\n",
    "df_clean['dia_da_semana'] = df_clean['Data'].dt.strftime('%A')"
   ]
  },
  {
   "cell_type": "markdown",
   "metadata": {},
   "source": [
    "* `Foi feita uma copia do DataFrame original para que as alteraçoes sejam feitas apenas na copia.` \n",
    "* `As colunas` ['EventArg'] `e` ['FloorName'] `foram descartadas por não terem informaçoes relevantes para a analise.`\n",
    "* `Foi criada uma nova variavel chamada` ['EventDate'] `para representar somente a data do evento.`\n",
    "* `As colunas` ['EventTime'] `e` ['EventDate'] `foram alteradas para o tipo datetime64, pois são tipo de data/hora.`\n",
    "* `Nosso objetivo é a analisar somente o tipo de objeto` 'DC' `, pois isso foi descartada as entradas diferentes desse tipo de objeto especificado`\n"
   ]
  },
  {
   "cell_type": "markdown",
   "metadata": {},
   "source": [
    "**Dicionário das variáveis [`EventObjectDevice`]**\n",
    "\n",
    ">* `20000` - Gerenciadora de Acesso Torre E\n",
    "\n",
    ">>**Dicionário das variáveis [`EventObjectInstance`]**\n",
    "\n",
    ">>>* `801` - DC_Entrada CPD                                \n",
    ">>>* `901` - DC_Entrada Cancela                              \n",
    ">>>* `301` - DC_Entrada Catraca 01 Terreo                    \n",
    ">>>* `201` - DC_Entrada Catraca 02 Terreo                    \n",
    ">>>* `501` - DC_Entrada Catraca 03 Terreo                    \n",
    ">>>* `601` - DC_Entrada Catraca G1                           \n",
    ">>>* `701` - DC_Entrada Catraca G2                           \n",
    ">>>* `902` - DC_Saida Cancela                                \n",
    ">>>* `302` - DC_Saida Catraca 01 Terreo                      \n",
    ">>>* `202` - DC_Saida Catraca 02 Terreo                      \n",
    ">>>* `502` - DC_Saida Catraca 03 Terreo                      \n",
    ">>>* `602` - DC_Saida Catraca G1                             \n",
    ">>>* `702` - DC_Saida Catraca G2                             \n",
    ">>>* `101` - DC_Urna Catraca 01 Terreo                       \n",
    ">>>* `102` - DC_Urna Catraca 02 Terreo                       \n",
    ">>>* `401` - DC_Urna Catraca 03 Terreo      \n",
    "\n",
    "**Dicionário das variáveis [`EventObjectDevice`]**\n",
    "\n",
    ">* `30000` - Gerenciadora de Acesso Torre F\n",
    "\n",
    ">>**Dicionário das variáveis [`EventObjectInstance`]**\n",
    "\n",
    ">>>* `101` - DC_Entrada Catraca 01 Terreo\n",
    ">>>* `201` - DC_Entrada Catraca 02 Terreo\n",
    ">>>* `301` - DC_Entrada Catraca 03 Terreo\n",
    ">>>* `601` - DC_Entrada Catraca G1       \n",
    ">>>* `702` - DC_Entrada Catraca G2       \n",
    ">>>* `102` - DC_Saida Catraca 01 Terreo  \n",
    ">>>* `202` - DC_Saida Catraca 02 Terreo  \n",
    ">>>* `302` - DC_Saida Catraca 03 Terreo  \n",
    ">>>* `602` - DC_Saida Catraca G1         \n",
    ">>>* `701` - DC_Saida Catraca G2         \n",
    ">>>* `401` - DC_Urna Catraca 01 Terreo   \n",
    ">>>* `402` - DC_Urna Catraca 02 Terreo   \n",
    ">>>* `501` - DC_Urna Catraca 03 Terreo  "
   ]
  },
  {
   "cell_type": "code",
   "execution_count": 306,
   "metadata": {},
   "outputs": [],
   "source": [
    "# Alterando Valores da Coluna Torre\n",
    "df_clean['Torre'] = df_clean['Torre'].replace({30000: 'Torre F', 20000: 'Torre E'})"
   ]
  },
  {
   "cell_type": "code",
   "execution_count": 307,
   "metadata": {},
   "outputs": [],
   "source": [
    "#Excluindo valores NaN da Coluna Nome_Usuario\n",
    "df_clean.dropna(subset=['Nome_Usuario'],inplace=True)"
   ]
  },
  {
   "cell_type": "code",
   "execution_count": 308,
   "metadata": {},
   "outputs": [],
   "source": [
    "#Filtrando a coluna Torre por Torre E e F\n",
    "df_clean = df_clean[df_clean[\"Torre\"].isin([\"Torre E\", \"Torre F\"])]"
   ]
  },
  {
   "cell_type": "code",
   "execution_count": 309,
   "metadata": {},
   "outputs": [],
   "source": [
    "# Extrair as palavras \"Entrada\", \"Saida\" e \"Urna\" da coluna \"Texto\"\n",
    "df_clean['Acesso'] = df_clean['Entrada/Saida'].apply(lambda x: 'Entrada' if 'Entrada' in x else ('Saida' if 'Saida' in x else 'Urna'))\n",
    "\n",
    "# Apagar a coluna \"Entrada/Saida\"\n",
    "df_clean.drop('Entrada/Saida', axis=1, inplace=True)"
   ]
  },
  {
   "cell_type": "markdown",
   "metadata": {},
   "source": [
    "`Para uma analise mais eficiente e para cumprir com o objetivo desse projeto foi filtrado a variavel` ['EventTime'] `em um periodo de data especifico`"
   ]
  },
  {
   "cell_type": "code",
   "execution_count": 310,
   "metadata": {},
   "outputs": [],
   "source": [
    "# Filtro por data do evento\n",
    "mes_def = df_clean[(df_clean['Ano'] == '2022')|(df_clean['Ano'] == '2023')]"
   ]
  },
  {
   "cell_type": "code",
   "execution_count": 311,
   "metadata": {},
   "outputs": [],
   "source": [
    "# Filtro por catracas do Térreo, G1 E G2\n",
    "total_pessoas = mes_def[mes_def[\"Catraca\"].isin([801,901,902])==False]"
   ]
  },
  {
   "cell_type": "code",
   "execution_count": 312,
   "metadata": {},
   "outputs": [],
   "source": [
    "#agrupando por Data e Nome, quantidade de pessoas por dia \n",
    "total_pessoas = mes_def.groupby(['Data', 'Nome_Usuario']).first().reset_index()\n"
   ]
  },
  {
   "cell_type": "code",
   "execution_count": 313,
   "metadata": {},
   "outputs": [
    {
     "data": {
      "text/plain": [
       "Entrada    92936\n",
       "Saida      13116\n",
       "Urna          34\n",
       "Name: Acesso, dtype: int64"
      ]
     },
     "execution_count": 313,
     "metadata": {},
     "output_type": "execute_result"
    }
   ],
   "source": [
    "total_pessoas[\"Acesso\"].value_counts()"
   ]
  },
  {
   "cell_type": "code",
   "execution_count": 314,
   "metadata": {},
   "outputs": [
    {
     "data": {
      "image/png": "[encoded data removed]",
      "text/plain": [
       "<Figure size 640x480 with 1 Axes>"
      ]
     },
     "metadata": {},
     "output_type": "display_data"
    }
   ],
   "source": [
    "fig, ax = plt.subplots()\n",
    "\n",
    "sns.countplot(x = total_pessoas.Torre, ax=ax, palette = \"Dark2\")\n",
    "\n",
    "for p in ax.patches:\n",
    "    height = p.get_height()\n",
    "    width = p.get_width()\n",
    "    x, y = p.get_xy() \n",
    "    ax.annotate(f'{height}', (x + width/2, height*1.01), ha='center')\n",
    "\n",
    "labels = ax.get_xticklabels() \n",
    "for label in labels:\n",
    "    label.set_rotation(45)\n",
    "ax.set_ylabel(\"Quantidade de entradas\")\n",
    "\n",
    "\"\"\"ax.set_title('Ocupação/Mes')\"\"\"\n",
    "\n",
    "plt.tight_layout()"
   ]
  },
  {
   "cell_type": "code",
   "execution_count": 315,
   "metadata": {},
   "outputs": [
    {
     "data": {
      "image/png": "[encoded data removed]",
      "text/plain": [
       "<Figure size 640x480 with 1 Axes>"
      ]
     },
     "metadata": {},
     "output_type": "display_data"
    }
   ],
   "source": [
    "fig, ax = plt.subplots()\n",
    "\n",
    "sns.countplot(x = total_pessoas.Hora, ax=ax, palette = \"Dark2\")\n",
    "\n",
    "for p in ax.patches:\n",
    "    height = p.get_height()\n",
    "    width = p.get_width()\n",
    "    x, y = p.get_xy() \n",
    "    ax.annotate(f'{height}', (x + width/2, height*1.01), ha='center')\n",
    "\n",
    "labels = ax.get_xticklabels() \n",
    "for label in labels:\n",
    "    label.set_rotation(45)\n",
    "\n",
    "ax.set_ylabel(\"Quantidade de entradas\")\n",
    "\n",
    "\"\"\"ax.set_title('Ocupação/Hora')\"\"\"\n",
    "\n",
    "plt.tight_layout()"
   ]
  },
  {
   "cell_type": "code",
   "execution_count": 316,
   "metadata": {},
   "outputs": [
    {
     "data": {
      "image/png": "[encoded data removed]",
      "text/plain": [
       "<Figure size 640x480 with 1 Axes>"
      ]
     },
     "metadata": {},
     "output_type": "display_data"
    }
   ],
   "source": [
    "fig, ax = plt.subplots()\n",
    "\n",
    "sns.countplot(x = total_pessoas.Ano_Mes, ax=ax, palette = \"Dark2\")\n",
    "\n",
    "for p in ax.patches:\n",
    "    height = p.get_height()\n",
    "    width = p.get_width()\n",
    "    x, y = p.get_xy() \n",
    "    ax.annotate(f'{height}', (x + width/2, height*1.01), ha='center')\n",
    "\n",
    "labels = ax.get_xticklabels() \n",
    "for label in labels:\n",
    "    label.set_rotation(45)\n",
    "\n",
    "ax.set_ylabel(\"Quantidade de entradas\")\n",
    "\n",
    "\"\"\"ax.set_title('Ocupação/Mes')\"\"\"\n",
    "\n",
    "plt.tight_layout()"
   ]
  },
  {
   "cell_type": "code",
   "execution_count": 317,
   "metadata": {},
   "outputs": [
    {
     "data": {
      "text/plain": [
       "Nome_Usuario    314.0\n",
       "dtype: float64"
      ]
     },
     "execution_count": 317,
     "metadata": {},
     "output_type": "execute_result"
    }
   ],
   "source": [
    "# Agrupar por data e contar o número de usuários\n",
    "round(total_pessoas.groupby(['Data'])[['Nome_Usuario']].count().loc[lambda x: x['Nome_Usuario'] > 50].mean())"
   ]
  }
 ],
 "metadata": {
  "kernelspec": {
   "display_name": "Python 3.10.6 ('env': venv)",
   "language": "python",
   "name": "python3"
  },
  "language_info": {
   "codemirror_mode": {
    "name": "ipython",
    "version": 3
   },
   "file_extension": ".py",
   "mimetype": "text/x-python",
   "name": "python",
   "nbconvert_exporter": "python",
   "pygments_lexer": "ipython3",
   "version": "3.10.10"
  },
  "orig_nbformat": 4,
  "vscode": {
   "interpreter": {
    "hash": "feeace4150a73e2747b3a928bb0ebd09341f696133222743b838c7264486ba0d"
   }
  }
 },
 "nbformat": 4,
 "nbformat_minor": 2
}
